{
 "cells": [
  {
   "cell_type": "code",
   "execution_count": 1,
   "id": "dfefa2c6",
   "metadata": {},
   "outputs": [],
   "source": [
    "#image Classification"
   ]
  },
  {
   "cell_type": "code",
   "execution_count": 2,
   "id": "e9e1e490",
   "metadata": {},
   "outputs": [],
   "source": [
    "import cv2\n",
    "import matplotlib.pyplot as plt\n",
    "import numpy\n",
    "from matplotlib import pyplot\n",
    "from keras.models import Sequential\n",
    "from keras.layers import Conv2D\n",
    "from keras.layers import MaxPooling2D\n",
    "from keras.layers import Dense\n",
    "from keras.layers import Flatten\n",
    "from keras.optimizers import SGD\n",
    "from keras.preprocessing.image import ImageDataGenerator"
   ]
  },
  {
   "cell_type": "code",
   "execution_count": 3,
   "id": "699f5f2d",
   "metadata": {},
   "outputs": [
    {
     "data": {
      "text/plain": [
       "' sequential NN is that neurons are connected one after other the op frm previous nerorn is used as ip for nxt neuron'"
      ]
     },
     "execution_count": 3,
     "metadata": {},
     "output_type": "execute_result"
    }
   ],
   "source": [
    "''' sequential NN is that neurons are connected one after other the op frm previous nerorn is used as ip for nxt neuron'''"
   ]
  },
  {
   "cell_type": "code",
   "execution_count": null,
   "id": "39914d95",
   "metadata": {},
   "outputs": [],
   "source": []
  },
  {
   "cell_type": "code",
   "execution_count": 4,
   "id": "abdf2803",
   "metadata": {},
   "outputs": [
    {
     "data": {
      "text/plain": [
       "'CNN :  Aperantly it has a kernel .Intensity and color and arrangement of pixcels is understood by computer using multiple layers of NN namely Outer Inner Hidden output is ultimately a class .the image is a square matrix of n rows and columns with zeros and ones these are intrepretted by multi channels and the output data is passed through ml model to get a class as output'"
      ]
     },
     "execution_count": 4,
     "metadata": {},
     "output_type": "execute_result"
    }
   ],
   "source": [
    "'''CNN :  Aperantly it has a kernel .Intensity and color and arrangement of pixcels is understood by computer using multiple layers of NN namely Outer Inner Hidden output is ultimately a class .the image is a square matrix of n rows and columns with zeros and ones these are intrepretted by multi channels and the output data is passed through ml model to get a class as output'''"
   ]
  },
  {
   "cell_type": "code",
   "execution_count": 5,
   "id": "3c70fe43",
   "metadata": {},
   "outputs": [
    {
     "data": {
      "text/plain": [
       "'POOLING : Space or size of frame of cnn are reduced so that the computation can be reduced or simply called feature reduction or extraction or Dimentional Reduction '"
      ]
     },
     "execution_count": 5,
     "metadata": {},
     "output_type": "execute_result"
    }
   ],
   "source": [
    "'''POOLING : Space or size of frame of cnn are reduced so that the computation can be reduced or simply called feature reduction or extraction or Dimentional Reduction '''"
   ]
  },
  {
   "cell_type": "code",
   "execution_count": 6,
   "id": "0f6ecbb0",
   "metadata": {},
   "outputs": [
    {
     "data": {
      "text/plain": [
       "'Pooling can be used as noise suppressor '"
      ]
     },
     "execution_count": 6,
     "metadata": {},
     "output_type": "execute_result"
    }
   ],
   "source": [
    "'''Pooling can be used as noise suppressor '''"
   ]
  },
  {
   "cell_type": "code",
   "execution_count": 7,
   "id": "1f45d8cc",
   "metadata": {},
   "outputs": [
    {
     "data": {
      "text/plain": [
       "'Hidden layers are also termed as Dense Layers'"
      ]
     },
     "execution_count": 7,
     "metadata": {},
     "output_type": "execute_result"
    }
   ],
   "source": [
    "'''Hidden layers are also termed as Dense Layers'''"
   ]
  },
  {
   "cell_type": "code",
   "execution_count": 8,
   "id": "13a378ef",
   "metadata": {},
   "outputs": [
    {
     "data": {
      "text/plain": [
       "'Flatten:converts a multidimensional tensor or vector to single dimention without reducing features'"
      ]
     },
     "execution_count": 8,
     "metadata": {},
     "output_type": "execute_result"
    }
   ],
   "source": [
    "'''Flatten:converts a multidimensional tensor or vector to single dimention without reducing features'''"
   ]
  },
  {
   "cell_type": "code",
   "execution_count": 9,
   "id": "a4f40de0",
   "metadata": {},
   "outputs": [
    {
     "data": {
      "text/plain": [
       "' kernel does feature extraction'"
      ]
     },
     "execution_count": 9,
     "metadata": {},
     "output_type": "execute_result"
    }
   ],
   "source": [
    "'''SGD : Stochastic Gradient Descent: decrease the error rate or bias'''\n",
    "''' kernel does feature extraction'''"
   ]
  },
  {
   "cell_type": "code",
   "execution_count": 10,
   "id": "ae1cbc00",
   "metadata": {},
   "outputs": [],
   "source": [
    "model = Sequential()"
   ]
  },
  {
   "cell_type": "code",
   "execution_count": 11,
   "id": "fcfa54f0",
   "metadata": {},
   "outputs": [],
   "source": [
    "#add first convolution layer with the input shape\n",
    "model.add(Conv2D(32, (3, 3), activation='relu', kernel_initializer='he_uniform', #32-->filters/layers,3*3-->size i.e 32 filters in a single layer of a kernel\n",
    "padding='same', input_shape=(150, 150, 3))) #relu--> rectified linear unit,he_uniform--> initializer of weights to all neurons\n",
    "#add a Maxpooling layer\n",
    "model.add(MaxPooling2D((2, 2)))  \n",
    "#add another convolution layer with more hidden units\n",
    "model.add(Conv2D(64, (3, 3), activation='relu', kernel_initializer='he_uniform',\n",
    "padding='same'))#padding-->amount of pixcels added to image when it is being processed by kernel\n",
    "model.add(MaxPooling2D((2, 2)))\n",
    "#add another convolution layer with more hidden units\n",
    "model.add(Conv2D(128, (3, 3), activation='relu', kernel_initializer='he_uniform',\n",
    "padding='same'))\n",
    "model.add(MaxPooling2D((2, 2)))\n",
    "#these are all sparse matrix "
   ]
  },
  {
   "cell_type": "code",
   "execution_count": 12,
   "id": "c287ac5d",
   "metadata": {},
   "outputs": [],
   "source": [
    "model.add(Flatten())\n",
    "model.add(Dense(128,activation='relu',kernel_initializer='he_uniform'))\n",
    "model.add(Dense(1, activation='sigmoid'))\n"
   ]
  },
  {
   "cell_type": "code",
   "execution_count": 15,
   "id": "6f5eb5a4",
   "metadata": {},
   "outputs": [],
   "source": [
    "model.compile(optimizer=SGD(learning_rate=0.01),loss='binary_crossentropy', metrics=['accuracy'])"
   ]
  },
  {
   "cell_type": "code",
   "execution_count": 16,
   "id": "dd4efccb",
   "metadata": {},
   "outputs": [
    {
     "name": "stdout",
     "output_type": "stream",
     "text": [
      "Found 306 images belonging to 2 classes.\n",
      "Found 329 images belonging to 2 classes.\n"
     ]
    }
   ],
   "source": [
    "# create data generators\n",
    "train_datagen=ImageDataGenerator(rescale=1.0/255.0,\n",
    "width_shift_range=0.1,height_shift_range=0.1, horizontal_flip=True)\n",
    "test_datagen = ImageDataGenerator(rescale=1.0/255.0)\n",
    "# prepare iterators\n",
    "train_it=train_datagen.flow_from_directory('training_set',class_mode='binary', batch_size=64, target_size=(150, 150))\n",
    "test_it=test_datagen.flow_from_directory('test_set',class_mode='binary', batch_size=64, target_size=(150, 150))"
   ]
  },
  {
   "cell_type": "code",
   "execution_count": 17,
   "id": "a5231bdf",
   "metadata": {},
   "outputs": [
    {
     "name": "stdout",
     "output_type": "stream",
     "text": [
      "Epoch 1/20\n",
      "5/5 [==============================] - 34s 7s/step - loss: 1.2562 - accuracy: 0.5752 - val_loss: 1.0384 - val_accuracy: 0.3343\n",
      "Epoch 2/20\n",
      "5/5 [==============================] - 28s 6s/step - loss: 0.6309 - accuracy: 0.6797 - val_loss: 0.8200 - val_accuracy: 0.3343\n",
      "Epoch 3/20\n",
      "5/5 [==============================] - 27s 6s/step - loss: 0.6297 - accuracy: 0.6797 - val_loss: 0.8980 - val_accuracy: 0.3343\n",
      "Epoch 4/20\n",
      "5/5 [==============================] - 30s 6s/step - loss: 0.6103 - accuracy: 0.6797 - val_loss: 0.7204 - val_accuracy: 0.3435\n",
      "Epoch 5/20\n",
      "5/5 [==============================] - 29s 6s/step - loss: 0.6319 - accuracy: 0.6830 - val_loss: 0.9613 - val_accuracy: 0.3343\n",
      "Epoch 6/20\n",
      "5/5 [==============================] - 29s 6s/step - loss: 0.6225 - accuracy: 0.6797 - val_loss: 0.7864 - val_accuracy: 0.3343\n",
      "Epoch 7/20\n",
      "5/5 [==============================] - 30s 6s/step - loss: 0.6100 - accuracy: 0.6797 - val_loss: 0.9464 - val_accuracy: 0.3343\n",
      "Epoch 8/20\n",
      "5/5 [==============================] - 29s 6s/step - loss: 0.6094 - accuracy: 0.6797 - val_loss: 0.9951 - val_accuracy: 0.3343\n",
      "Epoch 9/20\n",
      "5/5 [==============================] - 38s 8s/step - loss: 0.6208 - accuracy: 0.6797 - val_loss: 0.8337 - val_accuracy: 0.3343\n",
      "Epoch 10/20\n",
      "5/5 [==============================] - 38s 8s/step - loss: 0.6036 - accuracy: 0.6797 - val_loss: 0.7476 - val_accuracy: 0.3404\n",
      "Epoch 11/20\n",
      "5/5 [==============================] - 28s 6s/step - loss: 0.6272 - accuracy: 0.6830 - val_loss: 0.9624 - val_accuracy: 0.3343\n",
      "Epoch 12/20\n",
      "5/5 [==============================] - 28s 6s/step - loss: 0.6111 - accuracy: 0.6797 - val_loss: 1.0523 - val_accuracy: 0.3343\n",
      "Epoch 13/20\n",
      "5/5 [==============================] - 27s 6s/step - loss: 0.6187 - accuracy: 0.6732 - val_loss: 0.9148 - val_accuracy: 0.3343\n",
      "Epoch 14/20\n",
      "5/5 [==============================] - 28s 6s/step - loss: 0.6027 - accuracy: 0.6797 - val_loss: 0.8522 - val_accuracy: 0.3343\n",
      "Epoch 15/20\n",
      "5/5 [==============================] - 28s 6s/step - loss: 0.5999 - accuracy: 0.6797 - val_loss: 0.8536 - val_accuracy: 0.3343\n",
      "Epoch 16/20\n",
      "5/5 [==============================] - 27s 6s/step - loss: 0.6144 - accuracy: 0.6765 - val_loss: 1.0334 - val_accuracy: 0.3343\n",
      "Epoch 17/20\n",
      "5/5 [==============================] - 28s 6s/step - loss: 0.5982 - accuracy: 0.6797 - val_loss: 0.8287 - val_accuracy: 0.3343\n",
      "Epoch 18/20\n",
      "5/5 [==============================] - 29s 6s/step - loss: 0.5911 - accuracy: 0.6765 - val_loss: 0.9185 - val_accuracy: 0.3343\n",
      "Epoch 19/20\n",
      "5/5 [==============================] - 27s 6s/step - loss: 0.5921 - accuracy: 0.6797 - val_loss: 1.0121 - val_accuracy: 0.3343\n",
      "Epoch 20/20\n",
      "5/5 [==============================] - 31s 7s/step - loss: 0.5823 - accuracy: 0.6765 - val_loss: 1.1208 - val_accuracy: 0.3343\n"
     ]
    }
   ],
   "source": [
    "history=model.fit(train_it,steps_per_epoch=len(train_it),validation_data=test_it,validation_steps=len(test_it),epochs=20)"
   ]
  },
  {
   "cell_type": "code",
   "execution_count": 18,
   "id": "0e4a5d67",
   "metadata": {},
   "outputs": [],
   "source": [
    "model.save('cats-vs-dogs.h5')"
   ]
  },
  {
   "cell_type": "code",
   "execution_count": 19,
   "id": "8d01afc8",
   "metadata": {},
   "outputs": [
    {
     "name": "stderr",
     "output_type": "stream",
     "text": [
      "C:\\Users\\joysh\\AppData\\Local\\Temp/ipykernel_5088/645147663.py:1: UserWarning: `Model.evaluate_generator` is deprecated and will be removed in a future version. Please use `Model.evaluate`, which supports generators.\n",
      "  _,acc=model.evaluate_generator(test_it, steps=len(test_it), verbose=0)\n"
     ]
    },
    {
     "name": "stdout",
     "output_type": "stream",
     "text": [
      "> 33.435\n"
     ]
    }
   ],
   "source": [
    "_,acc=model.evaluate_generator(test_it, steps=len(test_it), verbose=0)\n",
    "print('> %.3f' % (acc * 100.0))"
   ]
  },
  {
   "cell_type": "code",
   "execution_count": 21,
   "id": "361702b2",
   "metadata": {},
   "outputs": [
    {
     "data": {
      "text/plain": [
       "[<matplotlib.lines.Line2D at 0x1e1810c5ed0>]"
      ]
     },
     "execution_count": 21,
     "metadata": {},
     "output_type": "execute_result"
    },
    {
     "data": {
      "image/png": "[encoded data removed]",
      "text/plain": [
       "<Figure size 432x288 with 1 Axes>"
      ]
     },
     "metadata": {
      "needs_background": "light"
     },
     "output_type": "display_data"
    }
   ],
   "source": [
    "from matplotlib import pyplot\n",
    "pyplot.subplot(211)\n",
    "pyplot.title('Cross Entropy Loss')\n",
    "pyplot.plot(history.history['loss'], color='blue', label='train')\n",
    "pyplot.plot(history.history['val_loss'], color='orange', label='test')"
   ]
  },
  {
   "cell_type": "code",
   "execution_count": 22,
   "id": "fbc877a5",
   "metadata": {},
   "outputs": [
    {
     "data": {
      "text/plain": [
       "[<matplotlib.lines.Line2D at 0x1e181134d00>]"
      ]
     },
     "execution_count": 22,
     "metadata": {},
     "output_type": "execute_result"
    },
    {
     "data": {
      "image/png": "[encoded data removed]",
      "text/plain": [
       "<Figure size 432x288 with 1 Axes>"
      ]
     },
     "metadata": {
      "needs_background": "light"
     },
     "output_type": "display_data"
    }
   ],
   "source": [
    "pyplot.subplot(212)\n",
    "pyplot.title('Classification Accuracy')\n",
    "pyplot.plot(history.history['accuracy'], color='blue', label='train')\n",
    "pyplot.plot(history.history['val_accuracy'], color='orange', label='test')"
   ]
  },
  {
   "cell_type": "code",
   "execution_count": 23,
   "id": "9310e8ca",
   "metadata": {},
   "outputs": [],
   "source": [
    "import sys\n",
    "filename = sys.argv[0].split('/')[-1]\n",
    "pyplot.savefig(filename + '_plot.png')\n",
    "pyplot.close()"
   ]
  },
  {
   "cell_type": "code",
   "execution_count": 24,
   "id": "b1a21992",
   "metadata": {},
   "outputs": [
    {
     "ename": "AttributeError",
     "evalue": "module 'keras.preprocessing.image' has no attribute 'load_img'",
     "output_type": "error",
     "traceback": [
      "\u001b[1;31m---------------------------------------------------------------------------\u001b[0m",
      "\u001b[1;31mAttributeError\u001b[0m                            Traceback (most recent call last)",
      "\u001b[1;32m~\\AppData\\Local\\Temp/ipykernel_5088/769007664.py\u001b[0m in \u001b[0;36m<module>\u001b[1;34m\u001b[0m\n\u001b[0;32m      1\u001b[0m \u001b[1;32mimport\u001b[0m \u001b[0mnumpy\u001b[0m \u001b[1;32mas\u001b[0m \u001b[0mnp\u001b[0m\u001b[1;33m\u001b[0m\u001b[1;33m\u001b[0m\u001b[0m\n\u001b[0;32m      2\u001b[0m \u001b[1;32mfrom\u001b[0m \u001b[0mkeras\u001b[0m\u001b[1;33m.\u001b[0m\u001b[0mpreprocessing\u001b[0m \u001b[1;32mimport\u001b[0m \u001b[0mimage\u001b[0m\u001b[1;33m\u001b[0m\u001b[1;33m\u001b[0m\u001b[0m\n\u001b[1;32m----> 3\u001b[1;33m \u001b[0mtest_image\u001b[0m \u001b[1;33m=\u001b[0m \u001b[0mimage\u001b[0m\u001b[1;33m.\u001b[0m\u001b[0mload_img\u001b[0m\u001b[1;33m(\u001b[0m\u001b[1;34m'cat.jpg'\u001b[0m\u001b[1;33m,\u001b[0m \u001b[0mtarget_size\u001b[0m \u001b[1;33m=\u001b[0m \u001b[1;33m(\u001b[0m\u001b[1;36m64\u001b[0m\u001b[1;33m,\u001b[0m \u001b[1;36m64\u001b[0m\u001b[1;33m)\u001b[0m\u001b[1;33m)\u001b[0m\u001b[1;33m\u001b[0m\u001b[1;33m\u001b[0m\u001b[0m\n\u001b[0m\u001b[0;32m      4\u001b[0m \u001b[0mtest_image\u001b[0m \u001b[1;33m=\u001b[0m \u001b[0mimage\u001b[0m\u001b[1;33m.\u001b[0m\u001b[0mimg_to_array\u001b[0m\u001b[1;33m(\u001b[0m\u001b[0mtest_image\u001b[0m\u001b[1;33m)\u001b[0m\u001b[1;33m\u001b[0m\u001b[1;33m\u001b[0m\u001b[0m\n\u001b[0;32m      5\u001b[0m \u001b[0mtest_image\u001b[0m \u001b[1;33m=\u001b[0m \u001b[0mnp\u001b[0m\u001b[1;33m.\u001b[0m\u001b[0mexpand_dims\u001b[0m\u001b[1;33m(\u001b[0m\u001b[0mtest_image\u001b[0m\u001b[1;33m,\u001b[0m \u001b[0maxis\u001b[0m \u001b[1;33m=\u001b[0m \u001b[1;36m0\u001b[0m\u001b[1;33m)\u001b[0m\u001b[1;33m\u001b[0m\u001b[1;33m\u001b[0m\u001b[0m\n",
      "\u001b[1;31mAttributeError\u001b[0m: module 'keras.preprocessing.image' has no attribute 'load_img'"
     ]
    }
   ],
   "source": [
    "import numpy as np\n",
    "from keras.preprocessing import image\n",
    "test_image = image.load_img('cat.jpg', target_size = (64, 64))\n",
    "test_image = image.img_to_array(test_image)\n",
    "test_image = np.expand_dims(test_image, axis = 0)\n",
    "result = classifier.predict(test_image)\n",
    "training_set.class_indices\n",
    "if result[0][0] == 1:\n",
    "    prediction = 'dog'\n",
    "    print(prediction)\n",
    "else:\n",
    "    prediction = 'cat'\n",
    "    print(prediction)"
   ]
  },
  {
   "cell_type": "code",
   "execution_count": null,
   "id": "d5dca830",
   "metadata": {},
   "outputs": [],
   "source": []
  }
 ],
 "metadata": {
  "kernelspec": {
   "display_name": "Python 3 (ipykernel)",
   "language": "python",
   "name": "python3"
  },
  "language_info": {
   "codemirror_mode": {
    "name": "ipython",
    "version": 3
   },
   "file_extension": ".py",
   "mimetype": "text/x-python",
   "name": "python",
   "nbconvert_exporter": "python",
   "pygments_lexer": "ipython3",
   "version": "3.10.0"
  }
 },
 "nbformat": 4,
 "nbformat_minor": 5
}
