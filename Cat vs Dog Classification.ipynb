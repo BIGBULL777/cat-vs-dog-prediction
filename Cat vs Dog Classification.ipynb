{
 "cells": [
  {
   "cell_type": "code",
   "execution_count": 8,
   "metadata": {},
   "outputs": [],
   "source": [
    "import cv2\n",
    "import matplotlib.pyplot as plt\n",
    "import numpy\n",
    "from matplotlib import pyplot\n",
    "from keras.models import Sequential\n",
    "from keras.layers import Conv2D\n",
    "from keras.layers import MaxPooling2D\n",
    "from keras.layers import Dense\n",
    "from keras.layers import Flatten\n",
    "from keras.optimizers import SGD\n",
    "from keras.preprocessing.image import ImageDataGenerator"
   ]
  },
  {
   "cell_type": "code",
   "execution_count": 9,
   "metadata": {},
   "outputs": [],
   "source": [
    "model = Sequential()"
   ]
  },
  {
   "cell_type": "code",
   "execution_count": 10,
   "metadata": {},
   "outputs": [],
   "source": [
    "#add first convolution layer with the input shape\n",
    "model.add(Conv2D(32, (3, 3), activation='relu', kernel_initializer='he_uniform',\n",
    "padding='same', input_shape=(150, 150, 3)))\n",
    "#add a Maxpooling layer\n",
    "model.add(MaxPooling2D((2, 2)))\n",
    "#add another convolution layer with more hidden units\n",
    "model.add(Conv2D(64, (3, 3), activation='relu', kernel_initializer='he_uniform',\n",
    "padding='same'))\n",
    "model.add(MaxPooling2D((2, 2)))\n",
    "#add another convolution layer with more hidden units\n",
    "model.add(Conv2D(128, (3, 3), activation='relu', kernel_initializer='he_uniform',\n",
    "padding='same'))\n",
    "model.add(MaxPooling2D((2, 2)))"
   ]
  },
  {
   "cell_type": "code",
   "execution_count": 11,
   "metadata": {},
   "outputs": [],
   "source": [
    "model.add(Flatten())\n",
    "model.add(Dense(128,activation='relu',kernel_initializer='he_uniform'))\n",
    "model.add(Dense(1, activation='sigmoid'))"
   ]
  },
  {
   "cell_type": "code",
   "execution_count": 12,
   "metadata": {},
   "outputs": [],
   "source": [
    "model.compile(optimizer=SGD(lr=0.01),loss='binary_crossentropy', metrics=['accuracy'])"
   ]
  },
  {
   "cell_type": "code",
   "execution_count": 14,
   "metadata": {},
   "outputs": [
    {
     "name": "stdout",
     "output_type": "stream",
     "text": [
      "Found 8005 images belonging to 2 classes.\n",
      "Found 2023 images belonging to 2 classes.\n"
     ]
    }
   ],
   "source": [
    "# create data generators\n",
    "train_datagen=ImageDataGenerator(rescale=1.0/255.0,\n",
    "width_shift_range=0.1,height_shift_range=0.1, horizontal_flip=True)\n",
    "test_datagen = ImageDataGenerator(rescale=1.0/255.0)\n",
    "# prepare iterators\n",
    "train_it=train_datagen.flow_from_directory('training_set',class_mode='binary', batch_size=64, target_size=(150, 150))\n",
    "test_it=test_datagen.flow_from_directory('test_set',class_mode='binary', batch_size=64, target_size=(150, 150))"
   ]
  },
  {
   "cell_type": "code",
   "execution_count": 15,
   "metadata": {},
   "outputs": [
    {
     "name": "stdout",
     "output_type": "stream",
     "text": [
      "WARNING:tensorflow:From <ipython-input-15-665b00cce073>:1: Model.fit_generator (from tensorflow.python.keras.engine.training) is deprecated and will be removed in a future version.\n",
      "Instructions for updating:\n",
      "Please use Model.fit, which supports generators.\n",
      "Epoch 1/20\n",
      "126/126 [==============================] - 505s 4s/step - loss: 0.7173 - accuracy: 0.5598 - val_loss: 0.6625 - val_accuracy: 0.6006\n",
      "Epoch 2/20\n",
      "126/126 [==============================] - 328s 3s/step - loss: 0.6667 - accuracy: 0.5906 - val_loss: 0.6472 - val_accuracy: 0.6228\n",
      "Epoch 3/20\n",
      "126/126 [==============================] - 334s 3s/step - loss: 0.6527 - accuracy: 0.6209 - val_loss: 0.6666 - val_accuracy: 0.5783\n",
      "Epoch 4/20\n",
      "126/126 [==============================] - 326s 3s/step - loss: 0.6376 - accuracy: 0.6400 - val_loss: 0.6172 - val_accuracy: 0.6649\n",
      "Epoch 5/20\n",
      "126/126 [==============================] - 328s 3s/step - loss: 0.6228 - accuracy: 0.6497 - val_loss: 0.5975 - val_accuracy: 0.6886\n",
      "Epoch 6/20\n",
      "126/126 [==============================] - 326s 3s/step - loss: 0.6098 - accuracy: 0.6707 - val_loss: 0.5818 - val_accuracy: 0.6960\n",
      "Epoch 7/20\n",
      "126/126 [==============================] - 327s 3s/step - loss: 0.5979 - accuracy: 0.6781 - val_loss: 0.5639 - val_accuracy: 0.7153\n",
      "Epoch 8/20\n",
      "126/126 [==============================] - 332s 3s/step - loss: 0.5847 - accuracy: 0.6899 - val_loss: 0.5590 - val_accuracy: 0.7084\n",
      "Epoch 9/20\n",
      "126/126 [==============================] - 337s 3s/step - loss: 0.5781 - accuracy: 0.6978 - val_loss: 0.5372 - val_accuracy: 0.7375\n",
      "Epoch 10/20\n",
      "126/126 [==============================] - 348s 3s/step - loss: 0.5670 - accuracy: 0.7029 - val_loss: 0.5362 - val_accuracy: 0.7350\n",
      "Epoch 11/20\n",
      "126/126 [==============================] - 374s 3s/step - loss: 0.5571 - accuracy: 0.7166 - val_loss: 0.5236 - val_accuracy: 0.7380\n",
      "Epoch 12/20\n",
      "126/126 [==============================] - 358s 3s/step - loss: 0.5503 - accuracy: 0.7196 - val_loss: 0.5333 - val_accuracy: 0.7331\n",
      "Epoch 13/20\n",
      "126/126 [==============================] - 365s 3s/step - loss: 0.5421 - accuracy: 0.7233 - val_loss: 0.5158 - val_accuracy: 0.7400\n",
      "Epoch 14/20\n",
      "126/126 [==============================] - 472s 4s/step - loss: 0.5339 - accuracy: 0.7274 - val_loss: 0.5058 - val_accuracy: 0.7479\n",
      "Epoch 15/20\n",
      "126/126 [==============================] - 427s 3s/step - loss: 0.5316 - accuracy: 0.7314 - val_loss: 0.5014 - val_accuracy: 0.7558\n",
      "Epoch 16/20\n",
      "126/126 [==============================] - 479s 4s/step - loss: 0.5245 - accuracy: 0.7374 - val_loss: 0.4919 - val_accuracy: 0.7583\n",
      "Epoch 17/20\n",
      "126/126 [==============================] - 465s 4s/step - loss: 0.5160 - accuracy: 0.7437 - val_loss: 0.5082 - val_accuracy: 0.7489\n",
      "Epoch 18/20\n",
      "126/126 [==============================] - 538s 4s/step - loss: 0.5121 - accuracy: 0.7457 - val_loss: 0.4870 - val_accuracy: 0.7632\n",
      "Epoch 19/20\n",
      "126/126 [==============================] - 553s 4s/step - loss: 0.5060 - accuracy: 0.7515 - val_loss: 0.4900 - val_accuracy: 0.7637\n",
      "Epoch 20/20\n",
      "126/126 [==============================] - 569s 5s/step - loss: 0.4989 - accuracy: 0.7593 - val_loss: 0.4898 - val_accuracy: 0.7637\n"
     ]
    }
   ],
   "source": [
    "history=model.fit_generator(train_it,steps_per_epoch=len(train_it),validation_data=test_it,validation_steps=len(test_it),epochs=20)"
   ]
  },
  {
   "cell_type": "code",
   "execution_count": 16,
   "metadata": {},
   "outputs": [],
   "source": [
    "model.save('cats-vs-dogs.h5')"
   ]
  },
  {
   "cell_type": "code",
   "execution_count": 17,
   "metadata": {},
   "outputs": [
    {
     "name": "stdout",
     "output_type": "stream",
     "text": [
      "WARNING:tensorflow:From <ipython-input-17-19174d41cb94>:1: Model.evaluate_generator (from tensorflow.python.keras.engine.training) is deprecated and will be removed in a future version.\n",
      "Instructions for updating:\n",
      "Please use Model.evaluate, which supports generators.\n",
      "> 76.372\n"
     ]
    }
   ],
   "source": [
    "_,acc=model.evaluate_generator(test_it, steps=len(test_it), verbose=0)\n",
    "print('> %.3f' % (acc * 100.0))"
   ]
  },
  {
   "cell_type": "code",
   "execution_count": 18,
   "metadata": {},
   "outputs": [
    {
     "data": {
      "text/plain": [
       "[<matplotlib.lines.Line2D at 0x40036c5b0>]"
      ]
     },
     "execution_count": 18,
     "metadata": {},
     "output_type": "execute_result"
    },
    {
     "data": {
      "image/png": "[encoded data removed]",
      "text/plain": [
       "<Figure size 432x288 with 1 Axes>"
      ]
     },
     "metadata": {
      "needs_background": "light"
     },
     "output_type": "display_data"
    }
   ],
   "source": [
    "from matplotlib import pyplot\n",
    "pyplot.subplot(211)\n",
    "pyplot.title('Cross Entropy Loss')\n",
    "pyplot.plot(history.history['loss'], color='blue', label='train')\n",
    "pyplot.plot(history.history['val_loss'], color='orange', label='test')"
   ]
  },
  {
   "cell_type": "code",
   "execution_count": 19,
   "metadata": {},
   "outputs": [
    {
     "data": {
      "text/plain": [
       "[<matplotlib.lines.Line2D at 0x40040ad60>]"
      ]
     },
     "execution_count": 19,
     "metadata": {},
     "output_type": "execute_result"
    },
    {
     "data": {
      "image/png": "[encoded data removed]",
      "text/plain": [
       "<Figure size 432x288 with 1 Axes>"
      ]
     },
     "metadata": {
      "needs_background": "light"
     },
     "output_type": "display_data"
    }
   ],
   "source": [
    "pyplot.subplot(212)\n",
    "pyplot.title('Classification Accuracy')\n",
    "pyplot.plot(history.history['accuracy'], color='blue', label='train')\n",
    "pyplot.plot(history.history['val_accuracy'], color='orange', label='test')"
   ]
  },
  {
   "cell_type": "code",
   "execution_count": 21,
   "metadata": {},
   "outputs": [],
   "source": [
    "import sys\n",
    "filename = sys.argv[0].split('/')[-1]\n",
    "pyplot.savefig(filename + '_plot.png')\n",
    "pyplot.close()"
   ]
  },
  {
   "cell_type": "code",
   "execution_count": null,
   "metadata": {},
   "outputs": [],
   "source": [
    "import numpy as np\n",
    "from keras.preprocessing import image\n",
    "test_image = image.load_img('cat.jpg', target_size = (64, 64))\n",
    "test_image = image.img_to_array(test_image)\n",
    "test_image = np.expand_dims(test_image, axis = 0)\n",
    "result = classifier.predict(test_image)\n",
    "training_set.class_indices\n",
    "if result[0][0] == 1:\n",
    "    prediction = 'dog'\n",
    "    print(prediction)\n",
    "else:\n",
    "    prediction = 'cat'\n",
    "    print(prediction)"
   ]
  }
 ],
 "metadata": {
  "kernelspec": {
   "display_name": "Python 3 (ipykernel)",
   "language": "python",
   "name": "python3"
  },
  "language_info": {
   "codemirror_mode": {
    "name": "ipython",
    "version": 3
   },
   "file_extension": ".py",
   "mimetype": "text/x-python",
   "name": "python",
   "nbconvert_exporter": "python",
   "pygments_lexer": "ipython3",
   "version": "3.10.0"
  }
 },
 "nbformat": 4,
 "nbformat_minor": 4
}
